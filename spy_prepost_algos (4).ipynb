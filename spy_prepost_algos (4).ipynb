{
 "cells": [
  {
   "cell_type": "code",
   "execution_count": 1942,
   "id": "1c0289f2-160d-4b35-ace5-98d3c49f95a2",
   "metadata": {},
   "outputs": [],
   "source": [
    "import pandas as pd\n",
    "import numpy as np\n",
    "from sklearn.preprocessing import StandardScaler, MinMaxScaler\n",
    "df = pd.read_csv(\"SPY.csv\")\n",
    "df['Date'] = pd.to_datetime(df['Date'])\n",
    "df = df[df['Date'] > '2016-01-01']\n",
    "#df = df.reset_index(inplace = True)\n",
    "df = df.reset_index(drop = True)\n",
    "#df.set_index('Date', inplace=True)"
   ]
  },
  {
   "cell_type": "code",
   "execution_count": 1943,
   "id": "00c6339e-3b64-4cbb-9f46-42d215c803b2",
   "metadata": {},
   "outputs": [],
   "source": [
    "\n",
    "\n",
    "delta = df['Close'].diff()\n",
    "gain = (delta.where(delta > 0, 0)).fillna(0)\n",
    "loss = (-delta.where(delta < 0, 0)).fillna(0)\n",
    "window = 14\n",
    "avg_gain = gain.rolling(window=window, min_periods=1).mean()\n",
    "avg_loss = loss.rolling(window=window, min_periods=1).mean()\n",
    "RS = avg_gain / avg_loss\n",
    "RSI = 100 - (100 / (1 + RS))\n",
    "df['RSI14'] = RSI\n",
    "delta = df['Close'].diff()\n",
    "gain = (delta.where(delta > 0, 0)).fillna(0)\n",
    "loss = (-delta.where(delta < 0, 0)).fillna(0)\n",
    "window = 7\n",
    "avg_gain = gain.rolling(window=window, min_periods=1).mean()\n",
    "avg_loss = loss.rolling(window=window, min_periods=1).mean()\n",
    "RS = avg_gain / avg_loss\n",
    "RSI = 100 - (100 / (1 + RS))\n",
    "df['RSI7'] = RSI\n",
    "indices_to_drop = df.index[:20]\n",
    "df = df.drop(indices_to_drop).reset_index(drop=True)\n",
    "\n"
   ]
  },
  {
   "cell_type": "code",
   "execution_count": 1944,
   "id": "e236f1af-e2fe-4ad9-a22c-e6f4a7c51011",
   "metadata": {},
   "outputs": [],
   "source": [
    "df['Day_of_Week'] = df['Date'].dt.day_name()\n",
    "df['Month_of_Year'] = df['Date'].dt.month"
   ]
  },
  {
   "cell_type": "code",
   "execution_count": 1945,
   "id": "f4479b58-71f7-42e9-8fad-085ea1714a05",
   "metadata": {},
   "outputs": [],
   "source": [
    "df2 = pd.read_csv(\"^VIX.csv\")\n",
    "df2['Date'] = pd.to_datetime(df2['Date'])\n",
    "df2 = df2[['Date', 'Close']]\n",
    "df2 = df2.rename(columns={'Close':'VIX_Close'})\n",
    "df3 = pd.read_csv(\"^TNX.csv\")\n",
    "df3['Date'] = pd.to_datetime(df3['Date'])\n",
    "df3 = df3[['Date', 'Close']]\n",
    "df3 = df3.rename(columns={'Close':'TNX_Close'})\n",
    "df4 = pd.read_csv(\"^TYX.csv\")\n",
    "df4['Date'] = pd.to_datetime(df4['Date'])\n",
    "df4 = df4[['Date', 'Close']]\n",
    "df4 = df4.rename(columns={'Close':'TYX_Close'})\n",
    "merged_df = pd.merge(df2, df3, on='Date', how='inner')\n",
    "merged_df1 = pd.merge(merged_df, df4, on='Date', how='inner')"
   ]
  },
  {
   "cell_type": "code",
   "execution_count": 1946,
   "id": "7a69b1be-8540-489e-a98d-da442b36a1f6",
   "metadata": {},
   "outputs": [],
   "source": [
    "df = pd.merge(df, merged_df1, on='Date',how='left')"
   ]
  },
  {
   "cell_type": "code",
   "execution_count": 1947,
   "id": "ee962d1b-f34f-4ab1-8d29-eec78d42a149",
   "metadata": {},
   "outputs": [],
   "source": [
    "df.replace(0, np.nan, inplace=True)\n",
    "df = df.dropna()\n",
    "df = df.reset_index(drop = True)\n",
    "df['Day_of_Week'] = df['Day_of_Week'].astype('category').cat.codes\n",
    "split_idx = int(len(df) * .85)\n",
    "df['Date'] = df['Date'].astype('category').cat.codes\n",
    "scaler = MinMaxScaler()\n",
    "features = ['Close','Date', 'Open', 'High', 'Low', 'Volume', 'RSI14', 'RSI7', 'Day_of_Week', 'Month_of_Year', 'VIX_Close', 'TNX_Close', 'TYX_Close']\n",
    "#display(df)\n",
    "df[features] = scaler.fit_transform(df[features])\n",
    "df = df[['Close','Date', 'Open', 'High', 'Low', 'Volume', 'RSI14', 'RSI7', 'Day_of_Week', 'Month_of_Year', 'VIX_Close', 'TNX_Close', 'TYX_Close']]\n",
    "train = df[:split_idx]\n",
    "test = df[split_idx:]"
   ]
  },
  {
   "cell_type": "code",
   "execution_count": 1948,
   "id": "909e03f9-9a1f-4a34-8054-c7a97cae6f7a",
   "metadata": {},
   "outputs": [],
   "source": [
    "def sequence(data, length):\n",
    "    xs = []\n",
    "    ys = []\n",
    "    for i in range(len(data)-length):\n",
    "        x = data[features].iloc[i:(i+length)]\n",
    "        y = data.iloc[i+length]['Close']\n",
    "        xs.append(x)\n",
    "        ys.append(y)\n",
    "    return np.array(xs), np.array(ys)"
   ]
  },
  {
   "cell_type": "code",
   "execution_count": 1949,
   "id": "e14b2443-5c15-4053-8bc9-8bcdf4279fbd",
   "metadata": {},
   "outputs": [
    {
     "data": {
      "text/plain": [
       "(1753, 4, 13)"
      ]
     },
     "execution_count": 1949,
     "metadata": {},
     "output_type": "execute_result"
    }
   ],
   "source": [
    "seq = 4 \n",
    "train_X, train_y = to_sequences(train, seq)\n",
    "test_X, test_y = to_sequences(test, seq)\n",
    "train_X.shape"
   ]
  },
  {
   "cell_type": "code",
   "execution_count": null,
   "id": "e6eb19cd-a9bd-4840-a7fa-6a965496413a",
   "metadata": {},
   "outputs": [],
   "source": []
  },
  {
   "cell_type": "code",
   "execution_count": 1950,
   "id": "40566099-a7eb-4341-81a6-355bede83be9",
   "metadata": {},
   "outputs": [],
   "source": [
    "import torch\n",
    "from torch.utils.data import TensorDataset, DataLoader\n",
    "X_torch = torch.tensor(train_X, dtype=torch.float32)\n",
    "y_torch = torch.tensor(train_y, dtype=torch.float32).view(-1, 1)\n",
    "train_data = TensorDataset(X_torch, y_torch)\n",
    "train_loader = DataLoader(train_data, batch_size=512, shuffle=False)"
   ]
  },
  {
   "cell_type": "code",
   "execution_count": 1951,
   "id": "e38ac260-e231-45e1-afb2-f1e0e0441a98",
   "metadata": {},
   "outputs": [],
   "source": [
    "import torch.nn as nn\n",
    "\n",
    "class LSTM(nn.Module):\n",
    "    def __init__(self, input, hl, out):\n",
    "        super(LSTM, self).__init__()\n",
    "        self.hl = hl\n",
    "        self.lstm = nn.LSTM(input, hl, batch_first=True)\n",
    "        self.linear = nn.Linear(hl, out)\n",
    "\n",
    "    def forward(self, x):\n",
    "        lstm_out, _ = self.lstm(x)\n",
    "        predictions = self.linear(lstm_out[:, -1, :])\n",
    "        return predictions\n",
    "\n",
    "input = len(features)\n",
    "hl = 50\n",
    "out = 1\n",
    "\n",
    "model = LSTM(input, hl, out)\n"
   ]
  },
  {
   "cell_type": "code",
   "execution_count": 1952,
   "id": "76f469e4-5a9d-47c3-bb2e-b44b054cc8fa",
   "metadata": {},
   "outputs": [
    {
     "name": "stdout",
     "output_type": "stream",
     "text": [
      "Epoch 1 Loss: 0.4928416609764099\n",
      "Epoch 2 Loss: 0.284860223531723\n",
      "Epoch 3 Loss: 0.11554954200983047\n",
      "Epoch 4 Loss: 0.015618623234331608\n",
      "Epoch 5 Loss: 0.01253702212125063\n",
      "Epoch 6 Loss: 0.010233375243842602\n",
      "Epoch 7 Loss: 0.006080007646232843\n",
      "Epoch 8 Loss: 0.016954056918621063\n",
      "Epoch 9 Loss: 0.02265898510813713\n",
      "Epoch 10 Loss: 0.016915787011384964\n",
      "Epoch 11 Loss: 0.0076331947930157185\n",
      "Epoch 12 Loss: 0.003285446669906378\n",
      "Epoch 13 Loss: 0.003015348222106695\n",
      "Epoch 14 Loss: 0.0024910965003073215\n",
      "Epoch 15 Loss: 0.002383507788181305\n",
      "Epoch 16 Loss: 0.002403323771432042\n",
      "Epoch 17 Loss: 0.0015800361288711429\n",
      "Epoch 18 Loss: 0.0015855380333960056\n",
      "Epoch 19 Loss: 0.0019019718747586012\n",
      "Epoch 20 Loss: 0.0012474842369556427\n",
      "Epoch 21 Loss: 0.0009063005563803017\n",
      "Epoch 22 Loss: 0.0010378527222201228\n",
      "Epoch 23 Loss: 0.0013351006200537086\n",
      "Epoch 24 Loss: 0.0010789547814056277\n",
      "Epoch 25 Loss: 0.0007887305691838264\n",
      "Epoch 26 Loss: 0.0007548806024715304\n",
      "Epoch 27 Loss: 0.0008080091211013496\n",
      "Epoch 28 Loss: 0.0007535220356658101\n",
      "Epoch 29 Loss: 0.0006545356591232121\n",
      "Epoch 30 Loss: 0.0006231159786693752\n",
      "Epoch 31 Loss: 0.0006345321889966726\n",
      "Epoch 32 Loss: 0.0006259374204091728\n",
      "Epoch 33 Loss: 0.0005927513702772558\n",
      "Epoch 34 Loss: 0.0005793662858195603\n",
      "Epoch 35 Loss: 0.00058568618260324\n",
      "Epoch 36 Loss: 0.0005832720780745149\n",
      "Epoch 37 Loss: 0.0005696324515156448\n",
      "Epoch 38 Loss: 0.0005641414900310338\n",
      "Epoch 39 Loss: 0.0005656381254084408\n",
      "Epoch 40 Loss: 0.0005620400770567358\n",
      "Epoch 41 Loss: 0.0005554838571697474\n",
      "Epoch 42 Loss: 0.0005535923992283642\n",
      "Epoch 43 Loss: 0.0005537956603802741\n",
      "Epoch 44 Loss: 0.0005515221273526549\n",
      "Epoch 45 Loss: 0.0005492327036336064\n",
      "Epoch 46 Loss: 0.0005491746123880148\n",
      "Epoch 47 Loss: 0.0005489744944497943\n",
      "Epoch 48 Loss: 0.0005475272773765028\n",
      "Epoch 49 Loss: 0.000546592113096267\n",
      "Epoch 50 Loss: 0.0005462605622597039\n"
     ]
    }
   ],
   "source": [
    "criterion = nn.MSELoss()\n",
    "optimizer = torch.optim.Adam(model.parameters(), lr=0.002)\n",
    "\n",
    "epochs = 50\n",
    "for epoch in range(epochs):\n",
    "    for seqs, labels in train_loader:\n",
    "        optimizer.zero_grad()\n",
    "        y_pred = model(seqs)\n",
    "        loss = criterion(y_pred, labels)\n",
    "        loss.backward()\n",
    "        optimizer.step()\n",
    "    print(f'Epoch {epoch+1} Loss: {loss.item()}')"
   ]
  },
  {
   "cell_type": "code",
   "execution_count": 1953,
   "id": "ee3220ca-cd7e-45d3-8023-a2aa93bfe5f9",
   "metadata": {},
   "outputs": [
    {
     "name": "stdout",
     "output_type": "stream",
     "text": [
      "Mean Squared Error: 0.00025736819952726364\n",
      "Mean Absolute Error: 0.012673435732722282\n"
     ]
    },
    {
     "data": {
      "image/png": "[encoded data removed]",
      "text/plain": [
       "<Figure size 640x480 with 1 Axes>"
      ]
     },
     "metadata": {},
     "output_type": "display_data"
    }
   ],
   "source": [
    "from sklearn.metrics import mean_squared_error, mean_absolute_error\n",
    "\n",
    "X_test_torch = torch.tensor(test_X, dtype=torch.float32)\n",
    "y_test_torch = torch.tensor(test_y, dtype=torch.float32).view(-1, 1)\n",
    "\n",
    "test_data = TensorDataset(X_test_torch, y_test_torch)\n",
    "test_loader = DataLoader(test_data, batch_size=512, shuffle=False)\n",
    "\n",
    "model.eval()  \n",
    "predictions = []\n",
    "actuals = []\n",
    "\n",
    "with torch.no_grad():\n",
    "    for seqs, labels in test_loader:\n",
    "        output = model(seqs)\n",
    "        predictions.extend(output.numpy().flatten())  \n",
    "        actuals.extend(labels.numpy().flatten())  \n",
    "\n",
    "mse = mean_squared_error(actuals, predictions)\n",
    "mae = mean_absolute_error(actuals,predictions)\n",
    "print(f'Mean Squared Error: {mse}')\n",
    "print(f'Mean Absolute Error: {mae}')\n",
    "import matplotlib.pyplot as plt\n",
    "\n",
    "\n",
    "#plt.figure(figsize=(10, 6))\n",
    "plt.plot(actuals[:], label='Actual', color='blue')\n",
    "plt.plot(predictions[:], label='Predicted', color='red')\n",
    "plt.grid(2)\n",
    "plt.title('Actual vs Predicted Close Prices')\n",
    "plt.xlabel('Time Steps')\n",
    "plt.ylabel('Close Price')\n",
    "plt.legend()\n",
    "plt.show()"
   ]
  }
 ],
 "metadata": {
  "kernelspec": {
   "display_name": "Python 3 (ipykernel)",
   "language": "python",
   "name": "python3"
  },
  "language_info": {
   "codemirror_mode": {
    "name": "ipython",
    "version": 3
   },
   "file_extension": ".py",
   "mimetype": "text/x-python",
   "name": "python",
   "nbconvert_exporter": "python",
   "pygments_lexer": "ipython3",
   "version": "3.9.6"
  }
 },
 "nbformat": 4,
 "nbformat_minor": 5
}
